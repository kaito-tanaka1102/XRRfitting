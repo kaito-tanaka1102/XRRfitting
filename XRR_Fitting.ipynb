{
 "cells": [
  {
   "cell_type": "code",
   "execution_count": 36,
   "id": "b53de35a",
   "metadata": {
    "scrolled": true
   },
   "outputs": [
    {
     "name": "stderr",
     "output_type": "stream",
     "text": [
      "C:\\Users\\Kaito\\AppData\\Local\\Temp\\ipykernel_13884\\2491601256.py:57: RuntimeWarning: invalid value encountered in arccos\n",
      "  180 / np.pi * np.arccos(no / n1 * cos_x),\n",
      "C:\\Users\\Kaito\\AppData\\Local\\Temp\\ipykernel_13884\\2491601256.py:60: RuntimeWarning: invalid value encountered in arccos\n",
      "  180 / np.pi * np.arccos(n1 / n2 * np.cos(th1 * np.pi / 180)),\n",
      "C:\\Users\\Kaito\\AppData\\Local\\Temp\\ipykernel_13884\\2491601256.py:71: RuntimeWarning: invalid value encountered in true_divide\n",
      "  r12 = np.where((kz2 == 0) & (kz1 == 0), 1, (kz1 - kz2) / (kz1 + kz2) * np.exp(-2 * kz2**2 * rough12**2))\n"
     ]
    },
    {
     "name": "stdout",
     "output_type": "stream",
     "text": [
      "フィットしたパラメータ: [ 0.37868751 90.51235377  2.9886037   4.9567544 ]\n",
      "共分散行列:\n",
      " [[ 3.76516996e-06  1.89101999e-05  7.30054347e-05 -8.77246357e-05]\n",
      " [ 1.89101999e-05  5.13864605e-03  3.26892308e-04 -5.95597797e-04]\n",
      " [ 7.30054347e-05  3.26892308e-04  4.75379235e-03 -4.58381561e-04]\n",
      " [-8.77246357e-05 -5.95597797e-04 -4.58381561e-04  8.42191496e-03]]\n"
     ]
    },
    {
     "name": "stderr",
     "output_type": "stream",
     "text": [
      "C:\\Users\\Kaito\\AppData\\Local\\Temp\\ipykernel_13884\\2491601256.py:57: RuntimeWarning: invalid value encountered in arccos\n",
      "  180 / np.pi * np.arccos(no / n1 * cos_x),\n",
      "C:\\Users\\Kaito\\AppData\\Local\\Temp\\ipykernel_13884\\2491601256.py:60: RuntimeWarning: invalid value encountered in arccos\n",
      "  180 / np.pi * np.arccos(n1 / n2 * np.cos(th1 * np.pi / 180)),\n",
      "C:\\Users\\Kaito\\AppData\\Local\\Temp\\ipykernel_13884\\2491601256.py:71: RuntimeWarning: invalid value encountered in true_divide\n",
      "  r12 = np.where((kz2 == 0) & (kz1 == 0), 1, (kz1 - kz2) / (kz1 + kz2) * np.exp(-2 * kz2**2 * rough12**2))\n"
     ]
    },
    {
     "data": {
      "image/png": "[encoded data removed]",
      "text/plain": [
       "<Figure size 432x288 with 1 Axes>"
      ]
     },
     "metadata": {
      "needs_background": "light"
     },
     "output_type": "display_data"
    }
   ],
   "source": [
    "import numpy as np\n",
    "import matplotlib.pyplot as plt\n",
    "import pandas as pd\n",
    "from scipy.optimize import curve_fit\n",
    "import japanize_matplotlib\n",
    "\n",
    "with open(r'\\Users\\Kaito\\OneDrive\\ドキュメント\\デスクトップ\\1_2-Theta_Omega.TXT', 'r') as file:\n",
    "    \n",
    "    data = file.read()  \n",
    "    #print(data)\n",
    "rows = data.split(\"' '\")\n",
    "\n",
    "columns = [row.split(\"\\t\") for row in rows]\n",
    "\n",
    "# ’\\n’をsplitで区切る\n",
    "columns = data.split(\"\\n\")\n",
    "\n",
    "SL = []\n",
    "for i, row in enumerate(columns):\n",
    "    \n",
    "    if i < 23:\n",
    "        continue\n",
    "    #print(i,row)\n",
    "    # print(len(row))\n",
    "    # print(row.split()[0])\n",
    "    # print(len(float(row.split()[0])))\n",
    "    try:\n",
    "        SL.append([float(row.split()[0]), float(row.split()[1])])\n",
    "    except:\n",
    "        #print('pass')  # 警告文(逃してますよ)\n",
    "        pass\n",
    "# リスト型からNDarrayへ変更\n",
    "SL = np.array(SL)\n",
    "\n",
    "\n",
    "x = SL[:,0] # スライス(入射角)\n",
    "x = x/2 \n",
    "y = SL[:,1]  #強度\n",
    "y1 = np.max(y)  \n",
    "y2 = y/y1\n",
    "y3 = np.log10(y2)\n",
    "\n",
    "def XRR(x, den1, t1, rough01, rough12):\n",
    "    er = 0.0000282\n",
    "    ram = 1.54178\n",
    "    den0 = 0\n",
    "    den2 = 0.7\n",
    "    scale = 1.5\n",
    "    afure = 0.28648\n",
    "\n",
    "    no = 1 - ram**2 * den0 * er / (2 * np.pi)\n",
    "    n1 = 1 - ram**2 * den1 * er / (2 * np.pi)\n",
    "    n2 = 1 - ram**2 * den2 * er / (2 * np.pi)\n",
    "\n",
    "    cos_x = np.cos(x * np.pi / 180)\n",
    "    th1 = np.where(no / n1 * cos_x <= 1,\n",
    "                   180 / np.pi * np.arccos(no / n1 * cos_x),\n",
    "                   0)\n",
    "    th2 = np.where(n1 / n2 * np.cos(th1 * np.pi / 180) <= 1,\n",
    "                   180 / np.pi * np.arccos(n1 / n2 * np.cos(th1 * np.pi / 180)),\n",
    "                   0)\n",
    "\n",
    "    sin_x = np.sin(x * np.pi / 180)\n",
    "    kz0 = 2 * np.pi / ram * no * sin_x\n",
    "    kz1 = 2 * np.pi / ram * n1 * np.sin(th1 * np.pi / 180)\n",
    "    kz2 = 2 * np.pi / ram * n2 * np.sin(th2 * np.pi / 180)\n",
    "\n",
    "    fail = kz1 * t1\n",
    "\n",
    "    r01 = np.where((kz0 == 0) & (kz1 == 0), 1, (kz0 - kz1) / (kz0 + kz1) * np.exp(-2 * kz1**2 * rough01**2))\n",
    "    r12 = np.where((kz2 == 0) & (kz1 == 0), 1, (kz1 - kz2) / (kz1 + kz2) * np.exp(-2 * kz2**2 * rough12**2))\n",
    "\n",
    "    A = scale * ((r01 + r12 * np.cos(2 * fail))**2 + (r12 * np.sin(2 * fail))**2) / ((1 + r01 * r12 * np.cos(2 * fail))**2 + (r01 * r12 * np.sin(2 * fail))**2)\n",
    "\n",
    "    y = np.where(x < afure, np.log10(np.maximum(scale * sin_x / np.sin(afure * np.pi / 180) * A, 1e-10)),\n",
    "                 np.log10(np.maximum(A, 1e-10)))\n",
    "    return y\n",
    "\n",
    "# 初期パラメータ\n",
    "initial_params = [0.36710955, 88.46879038, 2.97675954, 4.91557159]\n",
    "\n",
    "# パラメータの境界\n",
    "lower_bounds = [0.01, 1, 0, 1.5]\n",
    "upper_bounds = [2, 100, 10, 10]\n",
    "\n",
    "# カーブフィッティングを実行\n",
    "try:\n",
    "    params, covariance = curve_fit(XRR, x, y3, p0=initial_params, bounds=(lower_bounds, upper_bounds), method='trf')\n",
    "    den1, t1, rough01, rough12 = params\n",
    "\n",
    "    print(\"フィットしたパラメータ:\", params)\n",
    "    print(\"共分散行列:\\n\", covariance)\n",
    "\n",
    "    # 結果をプロット\n",
    "    plt.plot(x, y3, label='データ')\n",
    "    plt.plot(x, XRR(x, *params), color='red', label='フィット')\n",
    "    plt.xlabel('θ/2[rad]')\n",
    "    plt.ylabel('反射率r')\n",
    "    plt.title('X線反射率測定の結果')\n",
    "    plt.legend()\n",
    "    plt.show()\n",
    "\n",
    "except RuntimeError as e:\n",
    "    print(\"フィッティングに失敗しました:\", e)"
   ]
  },
  {
   "cell_type": "code",
   "execution_count": null,
   "id": "41a2d97e",
   "metadata": {},
   "outputs": [],
   "source": []
  }
 ],
 "metadata": {
  "kernelspec": {
   "display_name": "Python 3 (ipykernel)",
   "language": "python",
   "name": "python3"
  },
  "language_info": {
   "codemirror_mode": {
    "name": "ipython",
    "version": 3
   },
   "file_extension": ".py",
   "mimetype": "text/x-python",
   "name": "python",
   "nbconvert_exporter": "python",
   "pygments_lexer": "ipython3",
   "version": "3.9.12"
  }
 },
 "nbformat": 4,
 "nbformat_minor": 5
}
